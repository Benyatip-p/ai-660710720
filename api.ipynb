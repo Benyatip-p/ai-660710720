{
  "nbformat": 4,
  "nbformat_minor": 0,
  "metadata": {
    "colab": {
      "provenance": []
    },
    "kernelspec": {
      "name": "python3",
      "display_name": "Python 3"
    },
    "language_info": {
      "name": "python"
    }
  },
  "cells": [
    {
      "cell_type": "code",
      "execution_count": null,
      "metadata": {
        "id": "5IGZt7xgan-P"
      },
      "outputs": [],
      "source": [
        "!pip install flask numpy pandas scikit-learn joblib pyngrok"
      ]
    },
    {
      "cell_type": "code",
      "source": [
        "30xA8dn7w58yI11fkjKZOBkgskg_2sAkAAh1nSyt9xiAGwvqK"
      ],
      "metadata": {
        "id": "_IR28mBybzfT"
      },
      "execution_count": null,
      "outputs": []
    },
    {
      "cell_type": "code",
      "source": [
        "from flask import Flask, request, jsonify\n",
        "import pandas as pd\n",
        "import joblib\n",
        "import numpy as np\n",
        "from pyngrok import ngrok"
      ],
      "metadata": {
        "id": "n-q8k8sHbiLu"
      },
      "execution_count": null,
      "outputs": []
    },
    {
      "cell_type": "code",
      "source": [
        "app = Flask(__name__)\n",
        "\n",
        "# โหลด Model ที่ฝึกฝนแล้ว\n",
        "model = joblib.load('best_rf_model.joblib')\n"
      ],
      "metadata": {
        "id": "720rY1p-cA61"
      },
      "execution_count": null,
      "outputs": []
    },
    {
      "cell_type": "code",
      "source": [
        "@app.route('/predict', methods=['POST'])\n",
        "def predict():\n",
        "    # รับข้อมูลจาก request\n",
        "    data = request.json\n",
        "\n",
        "    # แปลงข้อมูลเป็น DataFrame\n",
        "    df = pd.DataFrame(data, index=[0])\n",
        "\n",
        "    # ทำนายผลลัพธ์\n",
        "    prediction = model.predict(df)\n",
        "\n",
        "    # ส่งผลลัพธ์กลับ\n",
        "    return jsonify({'prediction': int(prediction[0])})\n",
        "\n",
        "# ตั้งค่า authtoken สำหรับ ngrok (แทนที่ด้วย authtoken ของคุณ)\n",
        "ngrok.set_auth_token('30xA8dn7w58yI11fkjKZOBkgskg_2sAkAAh1nSyt9xiAGwvqK')\n",
        "\n",
        "# เริ่มต้น Flask app และ ngrok\n",
        "if __name__ == '__main__':\n",
        "    # เริ่ม ngrok\n",
        "    public_url = ngrok.connect(5000)\n",
        "    print(f'Public URL: {public_url}')\n",
        "\n",
        "    # เริ่ม Flask app\n",
        "    app.run(host='0.0.0.0', port=5000)"
      ],
      "metadata": {
        "colab": {
          "base_uri": "https://localhost:8080/"
        },
        "id": "cJPMHuaAcHNU",
        "outputId": "3e81cc84-80a5-4d5a-d8a8-331579c8a256"
      },
      "execution_count": null,
      "outputs": [
        {
          "output_type": "stream",
          "name": "stdout",
          "text": [
            "Public URL: NgrokTunnel: \"https://acd7c6e567ce.ngrok-free.app\" -> \"http://localhost:5000\"\n",
            " * Serving Flask app '__main__'\n",
            " * Debug mode: off\n"
          ]
        },
        {
          "output_type": "stream",
          "name": "stderr",
          "text": [
            "INFO:werkzeug:\u001b[31m\u001b[1mWARNING: This is a development server. Do not use it in a production deployment. Use a production WSGI server instead.\u001b[0m\n",
            " * Running on all addresses (0.0.0.0)\n",
            " * Running on http://127.0.0.1:5000\n",
            " * Running on http://172.28.0.12:5000\n",
            "INFO:werkzeug:\u001b[33mPress CTRL+C to quit\u001b[0m\n",
            "INFO:werkzeug:127.0.0.1 - - [14/Aug/2025 07:22:08] \"\u001b[33mPOST / HTTP/1.1\u001b[0m\" 404 -\n",
            "INFO:werkzeug:127.0.0.1 - - [14/Aug/2025 07:22:58] \"POST /predict HTTP/1.1\" 200 -\n"
          ]
        }
      ]
    },
    {
      "cell_type": "code",
      "source": [],
      "metadata": {
        "id": "vPPvzcevcSkA"
      },
      "execution_count": null,
      "outputs": []
    }
  ]
}